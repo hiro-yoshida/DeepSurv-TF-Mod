{
 "cells": [
  {
   "cell_type": "markdown",
   "metadata": {},
   "source": [
    "## DeepSruv-TF demo for simulated linear and non-linear data"
   ]
  },
  {
   "cell_type": "code",
   "execution_count": 1,
   "metadata": {},
   "outputs": [
    {
     "name": "stdout",
     "output_type": "stream",
     "text": [
      "1.10.0\n"
     ]
    }
   ],
   "source": [
    "# Set environment variable\n",
    "import os\n",
    "os.environ[\"CUDA_DEVICE_ORDER\"] = \"PCI_BUS_ID\" # so the IDs match nvidia-smi\n",
    "os.environ[\"CUDA_VISIBLE_DEVICES\"] = \"1\" # \"0, 1\" for multiple GPUs\n",
    "# impoart tensorflow\n",
    "import tensorflow as tf\n",
    "print(tf.__version__)\n",
    "# Allow growing memmory \n",
    "gpu_options = tf.GPUOptions(allow_growth=True)\n",
    "sess = tf.Session(config=tf.ConfigProto(gpu_options=gpu_options))"
   ]
  },
  {
   "cell_type": "markdown",
   "metadata": {},
   "source": [
    "### Import DeepSurv packages"
   ]
  },
  {
   "cell_type": "code",
   "execution_count": 2,
   "metadata": {},
   "outputs": [],
   "source": [
    "import sys\n",
    "sys.path.append(\"deepsurv\")\n",
    "import deepsurv_tf\n",
    "import deepsurv"
   ]
  },
  {
   "cell_type": "markdown",
   "metadata": {},
   "source": [
    "### Import utility packages"
   ]
  },
  {
   "cell_type": "code",
   "execution_count": 3,
   "metadata": {},
   "outputs": [],
   "source": [
    "from matplotlib import pyplot as plt\n",
    "%matplotlib inline\n",
    "import numpy\n",
    "import seaborn as sns\n",
    "import pandas\n",
    "import h5py as h5"
   ]
  },
  {
   "cell_type": "code",
   "execution_count": 4,
   "metadata": {},
   "outputs": [],
   "source": [
    "import sys\n",
    "sys.path.append(\"deepsurv\")\n",
    "import deepsurv_tf\n",
    "import deepsurv\n",
    "from matplotlib import pyplot as plt\n",
    "%matplotlib inline\n",
    "import numpy as np\n",
    "import seaborn as sns\n",
    "import pandas"
   ]
  },
  {
   "cell_type": "code",
   "execution_count": 5,
   "metadata": {
    "scrolled": false
   },
   "outputs": [],
   "source": [
    "epochs= 3000\n",
    "\n",
    "def h5_to_deepsurv_ds(file_, type='train'):\n",
    "    e = file_[type]['e'].value\n",
    "    t = file_[type]['t'].value\n",
    "    x = file_[type]['x'].value\n",
    "\n",
    "    # Return the deep surv dataframe\n",
    "    return {\n",
    "        'x': x,\n",
    "        'e': e,\n",
    "        't': t\n",
    "    }\n",
    "\n",
    "params = deepsurv_tf.Parameters()\n",
    "params.n_epochs = epochs"
   ]
  },
  {
   "cell_type": "markdown",
   "metadata": {},
   "source": [
    "### Simulatd linear survival data"
   ]
  },
  {
   "cell_type": "code",
   "execution_count": 6,
   "metadata": {},
   "outputs": [
    {
     "name": "stdout",
     "output_type": "stream",
     "text": [
      "Training done\n",
      "Best epoch 850\n",
      "Best loss 3016.6567\n"
     ]
    },
    {
     "name": "stderr",
     "output_type": "stream",
     "text": [
      "/home/yoshida/anaconda3/envs/deepsurv_all/lib/python3.6/site-packages/seaborn/axisgrid.py:230: UserWarning: The `size` paramter has been renamed to `height`; please update your code.\n",
      "  warnings.warn(msg, UserWarning)\n"
     ]
    },
    {
     "data": {
      "text/plain": [
       "<seaborn.axisgrid.FacetGrid at 0x7f9752985c50>"
      ]
     },
     "execution_count": 6,
     "metadata": {},
     "output_type": "execute_result"
    },
    {
     "data": {
      "image/png": "[encoded data removed]",
      "text/plain": [
       "<Figure size 949.375x432 with 2 Axes>"
      ]
     },
     "metadata": {},
     "output_type": "display_data"
    }
   ],
   "source": [
    "dataset = h5.File(\"data/linear/linear_survival_data.h5\", 'r')\n",
    "\n",
    "train = h5_to_deepsurv_ds(dataset)\n",
    "valid = h5_to_deepsurv_ds(dataset, 'valid')\n",
    "\n",
    "params.n_in = train['x'].shape[1]\n",
    "\n",
    "ds_tf = deepsurv_tf.DeepSurvTF(params)\n",
    "stats = ds_tf.train(train, valid)\n",
    "\n",
    "stats = pandas.concat([pandas.DataFrame(i) for i in stats.values()]).reset_index(drop=True)\n",
    "stats = pandas.melt(stats, id_vars=[\"epochs\", \"type\"])\n",
    "\n",
    "sns.FacetGrid(data=stats, hue=\"type\", col=\"variable\", sharey=False, size=6) \\\n",
    "    .map(plt.plot, \"epochs\", \"value\") \\\n",
    "    .map(plt.scatter, \"epochs\", \"value\") \\\n",
    "    .add_legend()"
   ]
  },
  {
   "cell_type": "markdown",
   "metadata": {},
   "source": [
    "### Simulated non-linear (Gaussian) survival data"
   ]
  },
  {
   "cell_type": "code",
   "execution_count": null,
   "metadata": {},
   "outputs": [],
   "source": [
    "dataset = h5.File(\"data/gaussian/gaussian_survival_data.h5\", 'r')\n",
    "\n",
    "train = h5_to_deepsurv_ds(dataset)\n",
    "valid = h5_to_deepsurv_ds(dataset, 'valid')\n",
    "\n",
    "params.n_in = train['x'].shape[1]\n",
    "\n",
    "ds_tf = deepsurv_tf.DeepSurvTF(params)\n",
    "stats = ds_tf.train(train, valid)\n",
    "\n",
    "stats = pandas.concat([pandas.DataFrame(i) for i in stats.values()]).reset_index(drop=True)\n",
    "stats = pandas.melt(stats, id_vars=[\"epochs\", \"type\"])\n",
    "\n",
    "sns.FacetGrid(data=stats, hue=\"type\", col=\"variable\", sharey=False, size=6) \\\n",
    "    .map(plt.plot, \"epochs\", \"value\") \\\n",
    "    .map(plt.scatter, \"epochs\", \"value\") \\\n",
    "    .add_legend()"
   ]
  }
 ],
 "metadata": {
  "kernelspec": {
   "display_name": "Python 3",
   "language": "python",
   "name": "python3"
  },
  "language_info": {
   "codemirror_mode": {
    "name": "ipython",
    "version": 3
   },
   "file_extension": ".py",
   "mimetype": "text/x-python",
   "name": "python",
   "nbconvert_exporter": "python",
   "pygments_lexer": "ipython3",
   "version": "3.6.6"
  }
 },
 "nbformat": 4,
 "nbformat_minor": 2
}
